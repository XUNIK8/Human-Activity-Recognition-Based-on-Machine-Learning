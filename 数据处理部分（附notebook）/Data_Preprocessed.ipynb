{
 "cells": [
  {
   "cell_type": "markdown",
   "source": [
    "## 第一部分：动作识别数据处理部分\n",
    "本部分主要用于对小程序采集的六轴原始数据进行特征提取，并将处理后的特征值和目标值通过TXT文件导出，以便于训练模型。\n",
    "**由于小程序中对IOS系统和安卓系统的手机的数据提取频率不同，样本数和样本的数据点数均不相同，故本代码中需调整部分值以便对IOS和安卓数据进行处理，需要调整部分将在后续代码中说明。**"
   ],
   "metadata": {
    "collapsed": false
   }
  },
  {
   "cell_type": "code",
   "execution_count": null,
   "outputs": [],
   "source": [
    "import scipy as sp\n",
    "from scipy import signal\n",
    "from scipy import stats\n",
    "from scipy.stats import entropy\n",
    "from scipy.stats import iqr as IQR\n",
    "import json\n",
    "import numpy as np\n",
    "import matplotlib.pyplot as plt\n",
    "from detecta import detect_peaks"
   ],
   "metadata": {
    "collapsed": false,
    "pycharm": {
     "name": "#%%\n"
    }
   }
  },
  {
   "cell_type": "markdown",
   "source": [
    "### 定义几种特征值的提取函数，方便调用。（公用部分）"
   ],
   "metadata": {
    "collapsed": false,
    "pycharm": {
     "name": "#%% md\n"
    }
   }
  },
  {
   "cell_type": "code",
   "execution_count": null,
   "outputs": [],
   "source": [
    "def mean(inArray):\n",
    "    array=np.array(inArray)\n",
    "    mean_value = float(array.mean())\n",
    "    return mean_value\n",
    "\n",
    "# std: standard deviation of mag column\n",
    "def std(inArray):\n",
    "    array=np.array(inArray)\n",
    "    std_value = float(array.std()) # std value\n",
    "    return std_value\n",
    "\n",
    "# mad: median deviation\n",
    "def mad(inArray):\n",
    "    array=np.array(inArray)\n",
    "    mad_value = float(sp.median(array))# median deviation value of mag_column\n",
    "    return mad_value\n",
    "\n",
    "# max\n",
    "def max(inArray):\n",
    "    array=np.array(inArray)\n",
    "    max_value=float(array.max()) # max value\n",
    "    return max_value\n",
    "# min\n",
    "def min(inArray):\n",
    "    array=np.array(inArray)\n",
    "    min_value= float(array.min()) # min value\n",
    "    return min_value\n",
    "\n",
    "# IQR\n",
    "def IQR(inArray):\n",
    "    array=np.array(inArray)\n",
    "    IQR_value=float(IQR(array))# Q3(column)-Q1(column)\n",
    "    return IQR_value\n",
    "\n",
    "# Entropy\n",
    "def entropy(inArray):\n",
    "    array=np.array(inArray)\n",
    "    entropy_value=float(entropy(array)) # entropy signal\n",
    "    return entropy_value\n",
    "\n",
    "def sma(inArray):\n",
    "    array=np.array(inArray)\n",
    "    sma_axial=float(abs(array).sum()) # sum of areas under each signal\n",
    "    return sma_axial # return sma value\n",
    "\n",
    "def energy(inArray):\n",
    "    array=np.array(inArray)\n",
    "    energy_vector=(array**2).sum() # energy value of each df column\n",
    "    return energy_vector # return energy vector energy_X,energy_Y,energy_Z\n",
    "\n",
    "def skew(inArray):\n",
    "    array=np.array(inArray)\n",
    "    skew_value=float(stats.skew(array)) # entropy signal\n",
    "    return skew_value\n",
    "\n",
    "def kurt(inArray):\n",
    "    array=np.array(inArray)\n",
    "    kurt_value=float(stats.kurtosis(array)) # entropy signal\n",
    "    return kurt_value"
   ],
   "metadata": {
    "collapsed": false,
    "pycharm": {
     "name": "#%%\n"
    }
   }
  },
  {
   "cell_type": "markdown",
   "source": [
    "### 数据处理部分"
   ],
   "metadata": {
    "collapsed": false,
    "pycharm": {
     "name": "#%% md\n"
    }
   }
  },
  {
   "cell_type": "code",
   "execution_count": null,
   "outputs": [],
   "source": [
    "def testA(infile,outfile):\n",
    "    f1 = open(infile, 'r', encoding='utf-8')\n",
    "    f2 = open(outfile, 'a', encoding='utf-8')\n",
    "    ln = 0\n",
    "\n",
    "    number = 0\n",
    "    total1 = 0\n",
    "    total2 = 0\n",
    "    total3 = 0\n",
    "    total4 = 0\n",
    "    total5 = 0\n",
    "    total6 = 0\n",
    "    num = range(0, 1000)"
   ],
   "metadata": {
    "collapsed": false,
    "pycharm": {
     "name": "#%%\n"
    }
   }
  },
  {
   "cell_type": "markdown",
   "source": [
    "#### 定义特征值列表、设置三阶低通滤波器"
   ],
   "metadata": {
    "collapsed": false
   }
  },
  {
   "cell_type": "code",
   "source": [
    "    feature = []\n",
    "    b, a = signal.butter(3, 0.05, 'lowpass')"
   ],
   "metadata": {
    "collapsed": false,
    "pycharm": {
     "name": "#%%\n"
    }
   },
   "execution_count": null,
   "outputs": []
  },
  {
   "cell_type": "markdown",
   "source": [
    "#### 读取JSON文件中的各项数据并存放至列表"
   ],
   "metadata": {
    "collapsed": false
   }
  },
  {
   "cell_type": "code",
   "source": [
    "    for line in f1.readlines():\n",
    "        dic = json.loads(line)\n",
    "        number = number+1\n",
    "\n",
    "        print('\\n',number)\n",
    "        print('num:', dic['number'])\n",
    "\n",
    "        accx = signal.filtfilt(b, a, dic['accx'])\n",
    "        accy = signal.filtfilt(b, a, dic['accy'])\n",
    "        accz = signal.filtfilt(b, a, dic['accz'])\n",
    "        gryx = signal.filtfilt(b, a, dic['gryx'])\n",
    "        gryy = signal.filtfilt(b, a, dic['gryy'])\n",
    "        gryz = signal.filtfilt(b, a, dic['gryz'])\n",
    "\n",
    "        #ind1 = detect_peaks(accx,mpd=60, show=True)\n",
    "        #total1 += abs(len(ind1)-dic['number'])\n",
    "        #print('ind:',len(ind1),'abs:',abs(len(ind1)-dic['number']))\n",
    "        #ind2 = detect_peaks(accy, mpd=60, show=True)\n",
    "        #total2 += abs(len(ind2) - dic['number'])\n",
    "        #print('ind:', len(ind2), 'abs:', abs(len(ind2) - dic['number']))\n",
    "        #ind3 = detect_peaks(accz, mpd=60, show=True)\n",
    "        #total3 += abs(len(ind3) - dic['number'])\n",
    "        #print('ind:', len(ind3), 'abs:', abs(len(ind3) - dic['number']))\n",
    "        #ind4 = detect_peaks(gryx, mpd=60, show=True)\n",
    "        #total4 += abs(len(ind4) - dic['number'])\n",
    "        #print('ind:', len(ind4), 'abs:', abs(len(ind4) - dic['number']))\n",
    "        #ind5 = detect_peaks(gryy, mpd=60, show=True)\n",
    "        #total5 += abs(len(ind5) - dic['number'])\n",
    "        #print('ind:', len(ind5), 'abs:', abs(len(ind5) - dic['number']))\n",
    "        #ind6 = detect_peaks(gryz, mpd=60, show=True)\n",
    "        #total6 += abs(len(ind6) - dic['number'])\n",
    "        #print('ind:', len(ind6), 'abs:', abs(len(ind6) - dic['number']))\n",
    "        #plt.figure(number)\n",
    "        #plt.plot(num, accx[0:1000])\n",
    "        #plt.title(number)\n",
    "        #plt.show()"
   ],
   "metadata": {
    "collapsed": false,
    "pycharm": {
     "name": "#%%\n"
    }
   },
   "execution_count": null,
   "outputs": []
  },
  {
   "cell_type": "markdown",
   "source": [
    "#### 差异（调整）部分。读取JSON文件数据。根据实际JSON文件中的数据组数设以及个人需求置循环次数（作者：采集频率为50hz，采样时长为20s，以2.56s为窗口分割数据，数据间有50%重叠部分，计算可得每组数据最多可以提取13组特征值）"
   ],
   "metadata": {
    "collapsed": false
   }
  },
  {
   "cell_type": "code",
   "source": [
    "        for i in range(13):\n",
    "            start = 64 * i\n",
    "            end = 64 * (i+2)\n",
    "\n",
    "            ln += 1\n",
    "            dic = json.loads(line)\n",
    "            activity = dic['activity']"
   ],
   "metadata": {
    "collapsed": false,
    "pycharm": {
     "name": "#%% \n"
    }
   },
   "execution_count": null,
   "outputs": []
  },
  {
   "cell_type": "markdown",
   "source": [
    "#### 对x轴加速度进行特征提取（调用开头定义的特征函数）"
   ],
   "metadata": {
    "collapsed": false
   }
  },
  {
   "cell_type": "code",
   "source": [
    "            mean_x1 = mean(accx[start:end])\n",
    "            std_x1 = std(accx[start:end])\n",
    "            mad_x1 = mad(accx[start:end])\n",
    "            max_x1 = max(accx[start:end])\n",
    "            min_x1 = min(accx[start:end])\n",
    "\n",
    "            sma_x1 = sma(accx[start:end])\n",
    "            energy_x1 = energy(accx[start:end])\n",
    "            skew_x1 = skew(accx[start:end])\n",
    "            kurt_x1 = kurt(accx[start:end])\n",
    "            #plt.plot(num, accx[0:1000])\n",
    "            #plt.title('accx:')\n",
    "        # python要用show展现出来图\n",
    "            #plt.show()"
   ],
   "metadata": {
    "collapsed": false,
    "pycharm": {
     "name": "#%% \n"
    }
   },
   "execution_count": null,
   "outputs": []
  },
  {
   "cell_type": "markdown",
   "source": [
    "#### 对y轴加速度同理"
   ],
   "metadata": {
    "collapsed": false
   }
  },
  {
   "cell_type": "code",
   "source": [
    "            mean_y1 = mean(accy[start:end])\n",
    "            std_y1 = std(accy[start:end])\n",
    "            mad_y1 = mad(accy[start:end])\n",
    "            max_y1 = max(accy[start:end])\n",
    "            min_y1 = min(accy[start:end])\n",
    "\n",
    "            sma_y1 = sma(accy[start:end])\n",
    "            energy_y1 = energy(accy[start:end])\n",
    "            skew_y1 = skew(accy[start:end])\n",
    "            kurt_y1 = kurt(accy[start:end])\n",
    "\n",
    "            #plt.plot(num, accy[start:end])\n",
    "            #plt.title('accy:')\n",
    "            #plt.show()"
   ],
   "metadata": {
    "collapsed": false,
    "pycharm": {
     "name": "#%%\n"
    }
   },
   "execution_count": null,
   "outputs": []
  },
  {
   "cell_type": "markdown",
   "source": [
    "#### 对z轴加速度同理"
   ],
   "metadata": {
    "collapsed": false
   }
  },
  {
   "cell_type": "code",
   "execution_count": null,
   "outputs": [],
   "source": [
    "            mean_z1 = mean(accz[start:end])\n",
    "            std_z1 = std(accz[start:end])\n",
    "            mad_z1 = mad(accz[start:end])\n",
    "            max_z1 = max(accz[start:end])\n",
    "            min_z1 = min(accz[start:end])\n",
    "\n",
    "            sma_z1 = sma(accz[start:end])\n",
    "            energy_z1 = energy(accz[start:end])\n",
    "            skew_z1 = skew(accz[start:end])\n",
    "            kurt_z1 = kurt(accz[start:end])\n",
    "            #plt.plot(num, accz[start:end])\n",
    "            #plt.title('accz:')\n",
    "        # python要用show展现出来图\n",
    "            #plt.show()"
   ],
   "metadata": {
    "collapsed": false,
    "pycharm": {
     "name": "#%%\n"
    }
   }
  },
  {
   "cell_type": "markdown",
   "source": [
    "#### 对x轴角速度同理"
   ],
   "metadata": {
    "collapsed": false
   }
  },
  {
   "cell_type": "code",
   "execution_count": null,
   "outputs": [],
   "source": [
    "            mean_x2 = mean(gryx[start:end])\n",
    "            std_x2 = std(gryx[start:end])\n",
    "            mad_x2 = mad(gryx[start:end])\n",
    "            max_x2 = max(gryx[start:end])\n",
    "            min_x2 = min(gryx[start:end])\n",
    "\n",
    "            sma_x2 = sma(gryx[start:end])\n",
    "            energy_x2 = energy(gryx[start:end])\n",
    "            skew_x2 = skew(gryx[start:end])\n",
    "            kurt_x2 = kurt(gryx[start:end])\n",
    "            #plt.plot(num, gryx[0:1000])\n",
    "            #plt.title('gryx:')\n",
    "        # python要用show展现出来图\n",
    "            #plt.show()"
   ],
   "metadata": {
    "collapsed": false,
    "pycharm": {
     "name": "#%%\n"
    }
   }
  },
  {
   "cell_type": "markdown",
   "source": [
    "##### 对y轴角速度同理"
   ],
   "metadata": {
    "collapsed": false
   }
  },
  {
   "cell_type": "code",
   "execution_count": null,
   "outputs": [],
   "source": [
    "            mean_y2 = mean(gryy[start:end])\n",
    "            std_y2 = std(gryy[start:end])\n",
    "            mad_y2 = mad(gryy[start:end])\n",
    "            max_y2 = max(gryy[start:end])\n",
    "            min_y2 = min(gryy[start:end])\n",
    "\n",
    "            sma_y2 = sma(gryy[start:end])\n",
    "            energy_y2 = energy(gryy[start:end])\n",
    "            skew_y2 = skew(gryy[start:end])\n",
    "            kurt_y2 = kurt(gryy[start:end])\n",
    "            #plt.plot(num, gryy[0:1000])\n",
    "            #plt.title('gryy:',)\n",
    "        # python要用show展现出来图\n",
    "            #plt.show()"
   ],
   "metadata": {
    "collapsed": false,
    "pycharm": {
     "name": "#%%\n"
    }
   }
  },
  {
   "cell_type": "markdown",
   "source": [
    "##### 对z轴角速度同理"
   ],
   "metadata": {
    "collapsed": false
   }
  },
  {
   "cell_type": "code",
   "execution_count": null,
   "outputs": [],
   "source": [
    "            mean_z2 = mean(gryz[start:end])\n",
    "            std_z2 = std(gryz[start:end])\n",
    "            mad_z2 = mad(gryz[start:end])\n",
    "            max_z2 = max(gryz[start:end])\n",
    "            min_z2 = min(gryz[start:end])\n",
    "\n",
    "            sma_z2 = sma(gryz[start:end])\n",
    "            energy_z2 = energy(gryz[start:end])\n",
    "            skew_z2 = skew(gryz[start:end])\n",
    "            kurt_z2 = kurt(gryz[start:end])\n",
    "            #plt.plot(num, gryz[0:1000])\n",
    "            #plt.title('gryz:')\n",
    "        # python要用show展现出来图\n",
    "            #plt.show()"
   ],
   "metadata": {
    "collapsed": false,
    "pycharm": {
     "name": "#%%\n"
    }
   }
  },
  {
   "cell_type": "markdown",
   "source": [
    "#### 将所有特征值存入数组（6 * 9 = 54个）"
   ],
   "metadata": {
    "collapsed": false
   }
  },
  {
   "cell_type": "code",
   "execution_count": null,
   "outputs": [],
   "source": [
    "            feature.extend([mean_x1,std_x1,mad_x1,max_x1,min_x1,sma_x1,energy_x1,skew_x1,kurt_x1,\n",
    "                            mean_y1,std_y1,mad_y1,max_y1,min_y1,sma_y1,energy_y1,skew_y1,kurt_y1,\n",
    "                            mean_z1,std_z1,mad_z1,max_z1,min_z1,sma_z1,energy_z1,skew_z1,kurt_z1,\n",
    "                            mean_x2,std_x2,mad_x2,max_x2,min_x2,sma_x2,energy_x2,skew_x2,kurt_x2,\n",
    "                            mean_y2,std_y2,mad_y2,max_y2,min_y2,sma_y2,energy_y2,skew_y2,kurt_y2,\n",
    "                            mean_z2,std_z2,mad_z2,max_z2,min_z2,sma_z2,energy_z2,skew_z2,kurt_z2,\n",
    "                       ])"
   ],
   "metadata": {
    "collapsed": false,
    "pycharm": {
     "name": "#%%\n"
    }
   }
  },
  {
   "cell_type": "markdown",
   "source": [
    "#### 将特征值写入txt文件"
   ],
   "metadata": {
    "collapsed": false
   }
  },
  {
   "cell_type": "code",
   "execution_count": null,
   "outputs": [],
   "source": [
    "            for j in range(len(feature)):\n",
    "                f2.write(str(round(feature[j],16)))\n",
    "                f2.write(',')\n",
    "            f2.write(str(int(activity)))\n",
    "            f2.write(\"\\n\")\n",
    "            feature = []\n",
    "\n",
    "    print('\\ntotal:',total1,total2,total3,total4,total5,total6)\n",
    "    f1.close()\n",
    "    f2.close()"
   ],
   "metadata": {
    "collapsed": false,
    "pycharm": {
     "name": "#%%\n"
    }
   }
  },
  {
   "cell_type": "markdown",
   "source": [
    "### 主函数"
   ],
   "metadata": {
    "collapsed": false
   }
  },
  {
   "cell_type": "code",
   "execution_count": null,
   "outputs": [],
   "source": [
    "if __name__ == '__main__':\n",
    "    infile = '../数据/5.23/ios/activity1.json'\n",
    "    outfile = '../myFeature/testfeature_final_NOTIMPORTANT.txt'\n",
    "    testA(infile,outfile)\n"
   ],
   "metadata": {
    "collapsed": false,
    "pycharm": {
     "name": "#%%\n"
    }
   }
  }
 ],
 "metadata": {
  "kernelspec": {
   "display_name": "Python 3",
   "language": "python",
   "name": "python3"
  },
  "language_info": {
   "codemirror_mode": {
    "name": "ipython",
    "version": 2
   },
   "file_extension": ".py",
   "mimetype": "text/x-python",
   "name": "python",
   "nbconvert_exporter": "python",
   "pygments_lexer": "ipython2",
   "version": "2.7.6"
  },
  "pycharm": {
   "stem_cell": {
    "cell_type": "raw",
    "source": [],
    "metadata": {
     "collapsed": false
    }
   }
  }
 },
 "nbformat": 4,
 "nbformat_minor": 0
}