{
 "cells": [
  {
   "cell_type": "markdown",
   "source": [
    "## 第三部分：动作识别实际运行部分（小程序使用时在服务器上运行）\n",
    "本部分采用flask框架，作用为：将小程序实时发送的六轴原始数据进行数据预处理和特征提取等操作，并将处理好的特征数据投入预先训练好的模型中，得到模型分类结果，最后将模型分类结果返回到小程序端。\n",
    "本部分依然对IOS和安卓进行差别处理，具体方法见后面的注释。"
   ],
   "metadata": {
    "collapsed": false,
    "pycharm": {
     "name": "#%% md\n"
    }
   }
  },
  {
   "cell_type": "code",
   "execution_count": null,
   "outputs": [],
   "source": [
    "import scipy as sp\n",
    "import sys\n",
    "from scipy import signal\n",
    "from scipy import stats\n",
    "from scipy.stats import entropy\n",
    "from scipy.stats import iqr as IQR\n",
    "import joblib\n",
    "from detecta import detect_peaks\n",
    "\n",
    "import numpy as np\n",
    "from flask import Flask,request\n",
    "app = Flask(__name__)\n",
    "\n",
    "accx = []\n",
    "accy = []\n",
    "accz = []\n",
    "gryx = []\n",
    "gryy = []\n",
    "gryz = []\n",
    "feature = []\n"
   ],
   "metadata": {
    "collapsed": false,
    "pycharm": {
     "name": "#%%\n"
    }
   }
  },
  {
   "cell_type": "markdown",
   "source": [
    "### 定义特征提取函数（同第一部分：动作识别数据处理部分）"
   ],
   "metadata": {
    "collapsed": false
   }
  },
  {
   "cell_type": "code",
   "source": [
    "def mean(inArray):\n",
    "    array=np.array(inArray)\n",
    "    mean_value = float(array.mean())\n",
    "    return mean_value\n",
    "\n",
    "# std: standard deviation of mag column\n",
    "def std(inArray):\n",
    "    array=np.array(inArray)\n",
    "    std_value = float(array.std()) # std value\n",
    "    return std_value\n",
    "\n",
    "# mad: median deviation\n",
    "def mad(inArray):\n",
    "    array=np.array(inArray)\n",
    "    mad_value = float(sp.median(array))# median deviation value of mag_column\n",
    "    return mad_value\n",
    "\n",
    "# max\n",
    "def max(inArray):\n",
    "    array=np.array(inArray)\n",
    "    max_value=float(array.max()) # max value\n",
    "    return max_value\n",
    "# min\n",
    "def min(inArray):\n",
    "    array=np.array(inArray)\n",
    "    min_value= float(array.min()) # min value\n",
    "    return min_value\n",
    "\n",
    "# IQR\n",
    "def IQR(inArray):\n",
    "    array=np.array(inArray)\n",
    "    IQR_value=float(IQR(array))# Q3(column)-Q1(column)\n",
    "    return IQR_value\n",
    "\n",
    "# Entropy\n",
    "def entropy(inArray):\n",
    "    array=np.array(inArray)\n",
    "    entropy_value=float(entropy(array)) # entropy signal\n",
    "    return entropy_value\n",
    "\n",
    "def sma(inArray):\n",
    "    array=np.array(inArray)\n",
    "    sma_axial=float(abs(array).sum()) # sum of areas under each signal\n",
    "    return sma_axial # return sma value\n",
    "\n",
    "def energy(inArray):\n",
    "    array=np.array(inArray)\n",
    "    energy_vector=(array**2).sum() # energy value of each df column\n",
    "    return energy_vector # return energy vector energy_X,energy_Y,energy_Z\n",
    "\n",
    "def skew(inArray):\n",
    "    array=np.array(inArray)\n",
    "    skew_value=float(stats.skew(array)) # entropy signal\n",
    "    return skew_value\n",
    "\n",
    "def kurt(inArray):\n",
    "    array=np.array(inArray)\n",
    "    kurt_value=float(stats.kurtosis(array)) # entropy signal\n",
    "    return kurt_value"
   ],
   "metadata": {
    "collapsed": false,
    "pycharm": {
     "name": "#%% \n"
    }
   },
   "execution_count": null,
   "outputs": []
  },
  {
   "cell_type": "markdown",
   "source": [
    "### 波峰计数函数"
   ],
   "metadata": {
    "collapsed": false
   }
  },
  {
   "cell_type": "code",
   "execution_count": null,
   "outputs": [],
   "source": [
    "@app.route('/count', methods=['post'])\n",
    "def count():\n",
    "\n",
    "    numA = 0\n",
    "    numB = 0\n",
    "    numC = 0\n",
    "    numD = 0\n",
    "    count = []"
   ],
   "metadata": {
    "collapsed": false,
    "pycharm": {
     "name": "#%% \n"
    }
   }
  },
  {
   "cell_type": "markdown",
   "source": [
    "#### 接收小程序端终止识别后的整个accy数组"
   ],
   "metadata": {
    "collapsed": false
   }
  },
  {
   "cell_type": "code",
   "execution_count": null,
   "outputs": [],
   "source": [
    "    data = request.get_json()\n",
    "    system = data['system']\n",
    "    accyAll = data['accyAll']\n",
    "    activity = data['activity']\n",
    "    activity.append(5)   #在尾部补充一个label 5（站立），为了避免因六轴数据截取不完整而导致的动作误判，将其默认为站立（无动作）\n",
    "    if len(accyAll) > 0:"
   ],
   "metadata": {
    "collapsed": false,
    "pycharm": {
     "name": "#%% \n"
    }
   }
  },
  {
   "cell_type": "markdown",
   "source": [
    "#### 针对IOS"
   ],
   "metadata": {
    "collapsed": false
   }
  },
  {
   "cell_type": "code",
   "execution_count": null,
   "outputs": [],
   "source": [
    "        if system == 1:\n",
    "            b1, a1 = signal.butter(2, [0.001, 0.03], 'bandpass')\n",
    "            accyAll_After = signal.filtfilt(b1, a1, accyAll,padlen = 0)\n",
    "            print('length:',len(accyAll_After))\n",
    "            print('activity:',activity)\n",
    "            print('len of activity:', len(activity))\n",
    "            peaks = detect_peaks(accyAll_After)\n",
    "            print('peaks:',peaks)\n",
    "            print('len of peaks:', len(peaks))"
   ],
   "metadata": {
    "collapsed": false,
    "pycharm": {
     "name": "#%% \n"
    }
   }
  },
  {
   "cell_type": "markdown",
   "source": [
    "##### 根据波峰在数组中的位置，在按时间存储动作标签的activity数组中寻找对应标签"
   ],
   "metadata": {
    "collapsed": false
   }
  },
  {
   "cell_type": "code",
   "execution_count": null,
   "outputs": [],
   "source": [
    "            for i in range(len(peaks)):\n",
    "                location = int(peaks[i] / 60)\n",
    "                if location == 0:\n",
    "                    location = 1\n",
    "                type = activity[location]\n",
    "                if type == 1:\n",
    "                    numA += 1\n",
    "                if type == 2:\n",
    "                    numB += 1\n",
    "                if type == 3:\n",
    "                    numC += 1\n",
    "                if type == 4:\n",
    "                    numD += 1\n",
    "            count = [numA,numB,numC,numD]\n",
    "            countStr =  ','.join(str(i) for i in count)"
   ],
   "metadata": {
    "collapsed": false,
    "pycharm": {
     "name": "#%% \n"
    }
   }
  },
  {
   "cell_type": "markdown",
   "source": [
    "#### 针对安卓（原理同上）"
   ],
   "metadata": {
    "collapsed": false
   }
  },
  {
   "cell_type": "code",
   "execution_count": null,
   "outputs": [],
   "source": [
    "        if system == 2:\n",
    "            b1, a1 = signal.butter(2, [0.025, 0.09], 'bandpass')\n",
    "            accyAll_After = signal.filtfilt(b1, a1, accyAll, padlen=0)\n",
    "            print('length:', len(accyAll_After))\n",
    "            print('activity:', activity)\n",
    "            print('len of activity:', len(activity))\n",
    "            peaks = detect_peaks(accyAll_After)\n",
    "            print('peaks:', peaks)\n",
    "            print('len of peaks:', len(peaks))\n",
    "            for i in range(len(peaks)):\n",
    "                location = int(peaks[i] / 20)\n",
    "                if location == 0:\n",
    "                    location = 1\n",
    "                type = activity[location]\n",
    "                if type == 1:\n",
    "                    numA += 1\n",
    "                if type == 2:\n",
    "                    numB += 1\n",
    "                if type == 3:\n",
    "                    numC += 1\n",
    "                if type == 4:\n",
    "                    numD += 1\n",
    "            count = [numA,numB,numC,numD]\n",
    "            countStr =  ','.join(str(i) for i in count)\n",
    "\n",
    "    print(count)\n",
    "    print(countStr)\n",
    "    return countStr"
   ],
   "metadata": {
    "collapsed": false,
    "pycharm": {
     "name": "#%% \n"
    }
   }
  },
  {
   "cell_type": "markdown",
   "source": [
    "### 动作识别函数"
   ],
   "metadata": {
    "collapsed": false
   }
  },
  {
   "cell_type": "code",
   "execution_count": null,
   "outputs": [],
   "source": [
    "@app.route('/',methods = ['post'])\n",
    "def action():\n",
    "    global accx\n",
    "    global accy\n",
    "    global accz\n",
    "    global gryx\n",
    "    global gryy\n",
    "    global gryz\n",
    "    global feature\n",
    "    global system\n",
    "    global label"
   ],
   "metadata": {
    "collapsed": false,
    "pycharm": {
     "name": "#%%\n"
    }
   }
  },
  {
   "cell_type": "markdown",
   "source": [
    "#### 获取小程序发送来的数据，并将六轴数据和手机系统[system：1(ios)/2(安卓)]分别存储"
   ],
   "metadata": {
    "collapsed": false
   }
  },
  {
   "cell_type": "code",
   "execution_count": null,
   "outputs": [],
   "source": [
    "    data = request.get_json()\n",
    "\n",
    "    accx1 = data['accx']\n",
    "    accy1 = data['accy']\n",
    "    accz1 = data['accz']\n",
    "    gryx1 = data['gryx']\n",
    "    gryy1 = data['gryy']\n",
    "    gryz1 = data['gryz']\n",
    "    system = data['system']\n",
    "    print('system:',system)"
   ],
   "metadata": {
    "collapsed": false,
    "pycharm": {
     "name": "#%%\n"
    }
   }
  },
  {
   "cell_type": "markdown",
   "source": [
    "#### 系统为IOS（system = 1），采样频率为20ms/组"
   ],
   "metadata": {
    "collapsed": false
   }
  },
  {
   "cell_type": "code",
   "execution_count": null,
   "outputs": [],
   "source": [
    "    if system == 1:"
   ],
   "metadata": {
    "collapsed": false,
    "pycharm": {
     "name": "#%%\n"
    }
   }
  },
  {
   "cell_type": "markdown",
   "source": [
    "##### 将本次的 1s 数据（64个点）与上 1s 数据（64个点）进行拼接"
   ],
   "metadata": {
    "collapsed": false
   }
  },
  {
   "cell_type": "code",
   "execution_count": null,
   "outputs": [],
   "source": [
    "        accx = np.concatenate((accx,accx1))\n",
    "        accy = np.concatenate((accy,accy1))\n",
    "        accz = np.concatenate((accz,accz1))\n",
    "        gryx = np.concatenate((gryx,gryx1))\n",
    "        gryy = np.concatenate((gryy,gryy1))\n",
    "        gryz = np.concatenate((gryz,gryz1))"
   ],
   "metadata": {
    "collapsed": false,
    "pycharm": {
     "name": "#%%\n"
    }
   }
  },
  {
   "cell_type": "markdown",
   "source": [
    "#### 判断接收到的数据是否达到128个（作者设置为2.56s判断一次动作，而为了每次判断有50%重叠区，小程序端每 1.28s 发送一次数据（64个点）。因此该判断主要为了空过开始识别后的第一秒。）"
   ],
   "metadata": {
    "collapsed": false
   }
  },
  {
   "cell_type": "code",
   "execution_count": null,
   "outputs": [],
   "source": [
    "        if len(accx) >100:\n",
    "\n",
    "            b, a = signal.butter(3, 0.1, 'lowpass')"
   ],
   "metadata": {
    "collapsed": false,
    "pycharm": {
     "name": "#%%\n"
    }
   }
  },
  {
   "cell_type": "markdown",
   "source": [
    "##### 特征提取部分"
   ],
   "metadata": {
    "collapsed": false,
    "pycharm": {
     "name": "#%% md\n"
    }
   }
  },
  {
   "cell_type": "code",
   "execution_count": null,
   "outputs": [],
   "source": [
    "            accx = signal.filtfilt(b, a, accx)\n",
    "            mean_x1 = mean(accx[:])\n",
    "            std_x1 = std(accx[:])\n",
    "            mad_x1 = mad(accx[:])\n",
    "            max_x1 = max(accx[:])\n",
    "            min_x1 = min(accx[:])\n",
    "\n",
    "            sma_x1 = sma(accx[:])\n",
    "            energy_x1 = energy(accx[:])\n",
    "            skew_x1 = skew(accx[:])\n",
    "            kurt_x1 = kurt(accx[:])\n",
    "        # plt.plot(num, accx[0:1000])\n",
    "        # plt.title('accx:')\n",
    "        # python要用show展现出来图\n",
    "        # plt.show()\n",
    "\n",
    "            accy = signal.filtfilt(b, a, accy)\n",
    "            mean_y1 = mean(accy[:])\n",
    "            std_y1 = std(accy[:])\n",
    "            mad_y1 = mad(accy[:])\n",
    "            max_y1 = max(accy[:])\n",
    "            min_y1 = min(accy[:])\n",
    "\n",
    "            sma_y1 = sma(accy[:])\n",
    "            energy_y1 = energy(accy[:])\n",
    "            skew_y1 = skew(accy[:])\n",
    "            kurt_y1 = kurt(accy[:])\n",
    "\n",
    "        #   plt.plot(num, accy[0:1000])\n",
    "        #  plt.title('accy:')\n",
    "        # python要用show展现出来图\n",
    "        # plt.show()\n",
    "\n",
    "            accz = signal.filtfilt(b, a, accz)\n",
    "            mean_z1 = mean(accz[:])\n",
    "            std_z1 = std(accz[:])\n",
    "            mad_z1 = mad(accz[:])\n",
    "            max_z1 = max(accz[:])\n",
    "            min_z1 = min(accz[:])\n",
    "\n",
    "            sma_z1 = sma(accz[:])\n",
    "            energy_z1 = energy(accz[:])\n",
    "            skew_z1 = skew(accz[:])\n",
    "            kurt_z1 = kurt(accz[:])\n",
    "            #  plt.plot(num, accz[0:1000])\n",
    "            #  plt.title('accz:')\n",
    "            # python要用show展现出来图\n",
    "            # plt.show()\n",
    "\n",
    "            gryx = signal.filtfilt(b, a, gryx)\n",
    "            mean_x2 = mean(gryx[:])\n",
    "            std_x2 = std(gryx[:])\n",
    "            mad_x2 = mad(gryx[:])\n",
    "            max_x2 = max(gryx[:])\n",
    "            min_x2 = min(gryx[:])\n",
    "\n",
    "            sma_x2 = sma(gryx[:])\n",
    "            energy_x2 = energy(gryx[:])\n",
    "            skew_x2 = skew(gryx[:])\n",
    "            kurt_x2 = kurt(gryx[:])\n",
    "            # plt.plot(num, gryx[0:1000])\n",
    "            # plt.title('gryx:')\n",
    "            # python要用show展现出来图\n",
    "            # plt.show()\n",
    "\n",
    "            gryy = signal.filtfilt(b, a, gryy)\n",
    "            mean_y2 = mean(gryy[:])\n",
    "            std_y2 = std(gryy[:])\n",
    "            mad_y2 = mad(gryy[:])\n",
    "            max_y2 = max(gryy[:])\n",
    "            min_y2 = min(gryy[:])\n",
    "\n",
    "            sma_y2 = sma(gryy[:])\n",
    "            energy_y2 = energy(gryy[:])\n",
    "            skew_y2 = skew(gryy[:])\n",
    "            kurt_y2 = kurt(gryy[:])\n",
    "            # plt.plot(num, gryy[0:1000])\n",
    "            # plt.title('gryy:',)\n",
    "            # python要用show展现出来图\n",
    "            # plt.show()\n",
    "\n",
    "            gryz = signal.filtfilt(b, a, gryz)\n",
    "            mean_z2 = mean(gryz[:])\n",
    "            std_z2 = std(gryz[:])\n",
    "            mad_z2 = mad(gryz[:])\n",
    "            max_z2 = max(gryz[:])\n",
    "            min_z2 = min(gryz[:])\n",
    "\n",
    "            sma_z2 = sma(gryz[:])\n",
    "            energy_z2 = energy(gryz[:])\n",
    "            skew_z2 = skew(gryz[:])\n",
    "            kurt_z2 = kurt(gryz[:])\n",
    "            # plt.plot(num, gryz[0:1000])\n",
    "            # plt.title('gryz:')\n",
    "            # python要用show展现出来图\n",
    "            # plt.show()\n",
    "\n",
    "            feature = [mean_x1, std_x1, mad_x1, max_x1, min_x1,\n",
    "                            sma_x1, energy_x1, skew_x1, kurt_x1,\n",
    "                            mean_y1, std_y1, mad_y1, max_y1, min_y1,\n",
    "                            sma_y1, energy_y1, skew_y1, kurt_y1,\n",
    "                            mean_z1, std_z1, mad_z1, max_z1, min_z1,\n",
    "                            sma_z1, energy_z1, skew_z1, kurt_z1,\n",
    "                            mean_x2, std_x2, mad_x2, max_x2, min_x2,\n",
    "                            sma_x2, energy_x2, skew_x2, kurt_x2,\n",
    "                            mean_y2, std_y2, mad_y2, max_y2, min_y2,\n",
    "                            sma_y2, energy_y2, skew_y2, kurt_y2,\n",
    "                            mean_z2, std_z2, mad_z2, max_z2, min_z2,\n",
    "                                                                                                                                                                           sma_z2, energy_z2, skew_z2, kurt_z2,\n",
    "                            ]"
   ],
   "metadata": {
    "collapsed": false,
    "pycharm": {
     "name": "#%%\n"
    }
   }
  },
  {
   "cell_type": "markdown",
   "source": [
    "##### 将特征集投入训练好的模型中（action为识别结果）"
   ],
   "metadata": {
    "collapsed": false
   }
  },
  {
   "cell_type": "code",
   "execution_count": null,
   "outputs": [],
   "source": [
    "            rf = joblib.load('model_RF_IOS_97.1_5Actions.model')\n",
    "            feature = np.array(feature)\n",
    "            feature = feature.reshape(1,-1)\n",
    "            action = rf.predict(feature)\n",
    "\n",
    "            print('action1:',action)\n",
    "            action = str(action[0])\n",
    "            print('action1:',action)\n",
    "            feature = []"
   ],
   "metadata": {
    "collapsed": false,
    "pycharm": {
     "name": "#%%\n"
    }
   }
  },
  {
   "cell_type": "markdown",
   "source": [
    "##### 如达到128个点，则将本次各数据的后一半保存，以方便与下一次的数据进行拼接，达到动作识别时有50%重叠区的目的"
   ],
   "metadata": {
    "collapsed": false
   }
  },
  {
   "cell_type": "code",
   "execution_count": null,
   "outputs": [],
   "source": [
    "            accx = accx[64:]\n",
    "            accy = accx[64:]\n",
    "            accz = accx[64:]\n",
    "            gryx = accx[64:]\n",
    "            gryy = accx[64:]\n",
    "            gryz = accx[64:]"
   ],
   "metadata": {
    "collapsed": false,
    "pycharm": {
     "name": "#%%\n"
    }
   }
  },
  {
   "cell_type": "markdown",
   "source": [
    "##### 如判断未达到128个点（即第一秒），则保留原数据不进行任何操作。"
   ],
   "metadata": {
    "collapsed": false
   }
  },
  {
   "cell_type": "code",
   "execution_count": null,
   "outputs": [],
   "source": [
    "        else :\n",
    "            accx = accx[:]\n",
    "            accy = accx[:]\n",
    "            accz = accx[:]\n",
    "            gryx = accx[:]\n",
    "            gryy = accx[:]\n",
    "            gryz = accx[:]\n",
    "            action = '0'"
   ],
   "metadata": {
    "collapsed": false,
    "pycharm": {
     "name": "#%%\n"
    }
   }
  },
  {
   "cell_type": "markdown",
   "source": [
    "#### 系统为安卓（system = 2） ，采样频率为60ms/组"
   ],
   "metadata": {
    "collapsed": false
   }
  },
  {
   "cell_type": "code",
   "execution_count": null,
   "outputs": [],
   "source": [
    "    if system == 2:"
   ],
   "metadata": {
    "collapsed": false,
    "pycharm": {
     "name": "#%%\n"
    }
   }
  },
  {
   "cell_type": "markdown",
   "source": [
    "##### 将本次的 1s 数据（20个点）与上 1s 数据（20个点）进行拼接"
   ],
   "metadata": {
    "collapsed": false
   }
  },
  {
   "cell_type": "code",
   "execution_count": null,
   "outputs": [],
   "source": [
    "        accx = np.concatenate((accx, accx1))\n",
    "        accy = np.concatenate((accy, accy1))\n",
    "        accz = np.concatenate((accz, accz1))\n",
    "        gryx = np.concatenate((gryx, gryx1))\n",
    "        gryy = np.concatenate((gryy, gryy1))\n",
    "        gryz = np.concatenate((gryz, gryz1))"
   ],
   "metadata": {
    "collapsed": false,
    "pycharm": {
     "name": "#%%\n"
    }
   }
  },
  {
   "cell_type": "markdown",
   "source": [
    "##### 判断接收到的数据是否达到40个（作者设置为2.4s判断一次动作，而为了每次判断有50%重叠区，小程序端每 1.2s 发送一次数据（20个点）。因此该判断主要为了空过开始识别后的第一秒。）"
   ],
   "metadata": {
    "collapsed": false
   }
  },
  {
   "cell_type": "code",
   "execution_count": null,
   "outputs": [],
   "source": [
    "        if len(accx) > 30:\n",
    "\n",
    "            b, a = signal.butter(3, 0.1, 'lowpass')"
   ],
   "metadata": {
    "collapsed": false,
    "pycharm": {
     "name": "#%%\n"
    }
   }
  },
  {
   "cell_type": "markdown",
   "source": [
    "##### 特征提取部分"
   ],
   "metadata": {
    "collapsed": false
   }
  },
  {
   "cell_type": "code",
   "execution_count": null,
   "outputs": [],
   "source": [
    "            accx = signal.filtfilt(b, a, accx)\n",
    "            mean_x1 = mean(accx[:])\n",
    "            std_x1 = std(accx[:])\n",
    "            mad_x1 = mad(accx[:])\n",
    "            max_x1 = max(accx[:])\n",
    "            min_x1 = min(accx[:])\n",
    "\n",
    "            sma_x1 = sma(accx[:])\n",
    "            energy_x1 = energy(accx[:])\n",
    "            skew_x1 = skew(accx[:])\n",
    "            kurt_x1 = kurt(accx[:])\n",
    "            # plt.plot(num, accx[0:1000])\n",
    "            # plt.title('accx:')\n",
    "            # python要用show展现出来图\n",
    "            # plt.show()\n",
    "\n",
    "            accy = signal.filtfilt(b, a, accy)\n",
    "            mean_y1 = mean(accy[:])\n",
    "            std_y1 = std(accy[:])\n",
    "            mad_y1 = mad(accy[:])\n",
    "            max_y1 = max(accy[:])\n",
    "            min_y1 = min(accy[:])\n",
    "\n",
    "            sma_y1 = sma(accy[:])\n",
    "            energy_y1 = energy(accy[:])\n",
    "            skew_y1 = skew(accy[:])\n",
    "            kurt_y1 = kurt(accy[:])\n",
    "\n",
    "            #   plt.plot(num, accy[0:1000])\n",
    "            #  plt.title('accy:')\n",
    "            # python要用show展现出来图\n",
    "            # plt.show()\n",
    "\n",
    "            accz = signal.filtfilt(b, a, accz)\n",
    "            mean_z1 = mean(accz[:])\n",
    "            std_z1 = std(accz[:])\n",
    "            mad_z1 = mad(accz[:])\n",
    "            max_z1 = max(accz[:])\n",
    "            min_z1 = min(accz[:])\n",
    "\n",
    "            sma_z1 = sma(accz[:])\n",
    "            energy_z1 = energy(accz[:])\n",
    "            skew_z1 = skew(accz[:])\n",
    "            kurt_z1 = kurt(accz[:])\n",
    "            #  plt.plot(num, accz[0:1000])\n",
    "            #  plt.title('accz:')\n",
    "            # python要用show展现出来图\n",
    "            # plt.show()\n",
    "\n",
    "            gryx = signal.filtfilt(b, a, gryx)\n",
    "            mean_x2 = mean(gryx[:])\n",
    "            std_x2 = std(gryx[:])\n",
    "            mad_x2 = mad(gryx[:])\n",
    "            max_x2 = max(gryx[:])\n",
    "            min_x2 = min(gryx[:])\n",
    "\n",
    "            sma_x2 = sma(gryx[:])\n",
    "            energy_x2 = energy(gryx[:])\n",
    "            skew_x2 = skew(gryx[:])\n",
    "            kurt_x2 = kurt(gryx[:])\n",
    "            # plt.plot(num, gryx[0:1000])\n",
    "            # plt.title('gryx:')\n",
    "            # python要用show展现出来图\n",
    "            # plt.show()\n",
    "\n",
    "            gryy = signal.filtfilt(b, a, gryy)\n",
    "            mean_y2 = mean(gryy[:])\n",
    "            std_y2 = std(gryy[:])\n",
    "            mad_y2 = mad(gryy[:])\n",
    "            max_y2 = max(gryy[:])\n",
    "            min_y2 = min(gryy[:])\n",
    "\n",
    "            sma_y2 = sma(gryy[:])\n",
    "            energy_y2 = energy(gryy[:])\n",
    "            skew_y2 = skew(gryy[:])\n",
    "            kurt_y2 = kurt(gryy[:])\n",
    "            # plt.plot(num, gryy[0:1000])\n",
    "            # plt.title('gryy:',)\n",
    "            # python要用show展现出来图\n",
    "            # plt.show()\n",
    "\n",
    "            gryz = signal.filtfilt(b, a, gryz)\n",
    "            mean_z2 = mean(gryz[:])\n",
    "            std_z2 = std(gryz[:])\n",
    "            mad_z2 = mad(gryz[:])\n",
    "            max_z2 = max(gryz[:])\n",
    "            min_z2 = min(gryz[:])\n",
    "\n",
    "            sma_z2 = sma(gryz[:])\n",
    "            energy_z2 = energy(gryz[:])\n",
    "            skew_z2 = skew(gryz[:])\n",
    "            kurt_z2 = kurt(gryz[:])\n",
    "            # plt.plot(num, gryz[0:1000])\n",
    "            # plt.title('gryz:')\n",
    "            # python要用show展现出来图\n",
    "            # plt.show()\n",
    "\n",
    "            feature = [mean_x1, std_x1, mad_x1, max_x1, min_x1,\n",
    "                       sma_x1, energy_x1, skew_x1, kurt_x1,\n",
    "                       mean_y1, std_y1, mad_y1, max_y1, min_y1,\n",
    "                       sma_y1, energy_y1, skew_y1, kurt_y1,\n",
    "                       mean_z1, std_z1, mad_z1, max_z1, min_z1,\n",
    "                       sma_z1, energy_z1, skew_z1, kurt_z1,\n",
    "                       mean_x2, std_x2, mad_x2, max_x2, min_x2,\n",
    "                       sma_x2, energy_x2, skew_x2, kurt_x2,\n",
    "                       mean_y2, std_y2, mad_y2, max_y2, min_y2,\n",
    "                       sma_y2, energy_y2, skew_y2, kurt_y2,\n",
    "                       mean_z2, std_z2, mad_z2, max_z2, min_z2,\n",
    "                       sma_z2, energy_z2, skew_z2, kurt_z2,\n",
    "                       ]"
   ],
   "metadata": {
    "collapsed": false,
    "pycharm": {
     "name": "#%%\n"
    }
   }
  },
  {
   "cell_type": "markdown",
   "source": [
    "##### 将特征集投入训练好的模型中（action为识别结果）"
   ],
   "metadata": {
    "collapsed": false
   }
  },
  {
   "cell_type": "code",
   "execution_count": null,
   "outputs": [],
   "source": [
    "            rf = joblib.load('model_RF_Android_97.0_5Actions.model')\n",
    "            feature = np.array(feature)\n",
    "            feature = feature.reshape(1, -1)\n",
    "            action = rf.predict(feature)\n",
    "\n",
    "            print('action1:', action)\n",
    "            action = str(action[0])\n",
    "            print('action1:', action)\n",
    "            feature = []"
   ],
   "metadata": {
    "collapsed": false,
    "pycharm": {
     "name": "#%%\n"
    }
   }
  },
  {
   "cell_type": "markdown",
   "source": [
    "##### 如达到40个点，则将本次各数据的后一半保存，以方便与下一次的数据进行拼接，达到动作识别时有50%重叠区的目的"
   ],
   "metadata": {
    "collapsed": false
   }
  },
  {
   "cell_type": "code",
   "execution_count": null,
   "outputs": [],
   "source": [
    "            accx = accx[20:]\n",
    "            accy = accx[20:]\n",
    "            accz = accx[20:]\n",
    "            gryx = accx[20:]\n",
    "            gryy = accx[20:]\n",
    "            gryz = accx[20:]"
   ],
   "metadata": {
    "collapsed": false,
    "pycharm": {
     "name": "#%%\n"
    }
   }
  },
  {
   "cell_type": "markdown",
   "source": [
    "##### 如判断未达到128个点（即第一秒），则保留原数据不进行任何操作。"
   ],
   "metadata": {
    "collapsed": false
   }
  },
  {
   "cell_type": "code",
   "execution_count": null,
   "outputs": [],
   "source": [
    "        else:\n",
    "            accx = accx[:]\n",
    "            accy = accx[:]\n",
    "            accz = accx[:]\n",
    "            gryx = accx[:]\n",
    "            gryy = accx[:]\n",
    "            gryz = accx[:]\n",
    "            action = '0'\n",
    "\n",
    "    return action"
   ],
   "metadata": {
    "collapsed": false,
    "pycharm": {
     "name": "#%%\n"
    }
   }
  },
  {
   "cell_type": "markdown",
   "source": [
    "### 主函数（联系服务器）"
   ],
   "metadata": {
    "collapsed": false
   }
  },
  {
   "cell_type": "code",
   "execution_count": null,
   "outputs": [],
   "source": [
    "if __name__ == '__main__':\n",
    "    context = (sys.path[0] + '/Nginx/1_www.inifyy.cn_bundle.crt', sys.path[0] + '/Nginx/2_www.inifyy.cn.key')\n",
    "    app.run(debug=1, host='172.17.0.3', port=8000, ssl_context=context)\n"
   ],
   "metadata": {
    "collapsed": false,
    "pycharm": {
     "name": "#%%\n"
    }
   }
  }
 ],
 "metadata": {
  "kernelspec": {
   "display_name": "Python 3",
   "language": "python",
   "name": "python3"
  },
  "language_info": {
   "codemirror_mode": {
    "name": "ipython",
    "version": 2
   },
   "file_extension": ".py",
   "mimetype": "text/x-python",
   "name": "python",
   "nbconvert_exporter": "python",
   "pygments_lexer": "ipython2",
   "version": "2.7.6"
  },
  "pycharm": {
   "stem_cell": {
    "cell_type": "raw",
    "source": [],
    "metadata": {
     "collapsed": false
    }
   }
  }
 },
 "nbformat": 4,
 "nbformat_minor": 0
}